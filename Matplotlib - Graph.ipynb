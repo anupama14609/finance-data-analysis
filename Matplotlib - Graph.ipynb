{
 "cells": [
  {
   "cell_type": "code",
   "execution_count": null,
   "id": "5d893d4d",
   "metadata": {},
   "outputs": [],
   "source": [
    "import matplotlib.pyplot as plt\n",
    "from scipy import stats\n",
    "import numpy as np\n",
    "%matplotlib inline  \n",
    "\n",
    "x = [0.46,0.59,0.68,0.99,0.39,0.31,1.09,0.77,0.72,0.49,0.55,0.62,0.58,0.88,0.78]\n",
    "y = [0.315,0.383,0.452,0.650,0.279,0.215,0.727,0.512,0.478,0.335,0.365,0.424,0.390,0.585,0.511]\n",
    "xerr = [0.01]*15\n",
    "yerr = [0.001]*15\n",
    "\n",
    "plt.rc('font', family='serif', size=13)\n",
    "m, b = np.polyfit(x, y, 1)\n",
    "plt.plot(x,y,'s',color='#0066FF')\n",
    "plt.plot(x, m*x + b, 'r-') #BREAKS ON THIS LINE\n",
    "plt.errorbar(x,y,xerr=xerr,yerr=0,linestyle=\"None\",color='black')\n",
    "plt.xlabel('$\\Delta t$ $(s)$',fontsize=20)\n",
    "plt.ylabel('$\\Delta p$ $(hPa)$',fontsize=20)\n",
    "plt.autoscale(enable=True, axis=u'both', tight=False)\n",
    "plt.grid(False)\n",
    "plt.xlim(0.2,1.2)\n",
    "plt.ylim(0,0.8)\n",
    "plt.show()"
   ]
  },
  {
   "cell_type": "code",
   "execution_count": null,
   "id": "1b4c377d",
   "metadata": {},
   "outputs": [],
   "source": []
  },
  {
   "cell_type": "code",
   "execution_count": null,
   "id": "3f8cdf5e",
   "metadata": {},
   "outputs": [],
   "source": []
  }
 ],
 "metadata": {
  "kernelspec": {
   "display_name": "Python 3 (ipykernel)",
   "language": "python",
   "name": "python3"
  },
  "language_info": {
   "codemirror_mode": {
    "name": "ipython",
    "version": 3
   },
   "file_extension": ".py",
   "mimetype": "text/x-python",
   "name": "python",
   "nbconvert_exporter": "python",
   "pygments_lexer": "ipython3",
   "version": "3.9.6"
  }
 },
 "nbformat": 4,
 "nbformat_minor": 5
}
