{
 "cells": [
  {
   "cell_type": "code",
   "execution_count": null,
   "id": "ef28f450",
   "metadata": {},
   "outputs": [],
   "source": [
    "from matplotlib import pyplot as plt\n",
    "from sklearn import datasets\n",
    "from sklearn.tree import DecisionTreeClassifier \n",
    "from sklearn import tree\n",
    "import pandas as pd\n",
    "from dtreeviz.trees import dtreeviz \n",
    "\n",
    "# Prepare the data data\n",
    "# iris = datasets.load_iris()\n",
    "iris = pd.read_csv('IceCreamData.csv')\n",
    "X = iris.data\n",
    "y = iris.target\n",
    "# Fit the classifier with default hyper-parameters\n",
    "clf = DecisionTreeClassifier(random_state=1234)\n",
    "model = clf.fit(X, y)\n",
    "\n",
    "viz = dtreeviz(clf, X, y,\n",
    "                target_name=\"target\",\n",
    "                feature_names=iris.feature_names,\n",
    "                class_names=list(iris.target_names))\n",
    "\n",
    "viz"
   ]
  }
 ],
 "metadata": {
  "kernelspec": {
   "display_name": "Python 3 (ipykernel)",
   "language": "python",
   "name": "python3"
  },
  "language_info": {
   "codemirror_mode": {
    "name": "ipython",
    "version": 3
   },
   "file_extension": ".py",
   "mimetype": "text/x-python",
   "name": "python",
   "nbconvert_exporter": "python",
   "pygments_lexer": "ipython3",
   "version": "3.9.6"
  }
 },
 "nbformat": 4,
 "nbformat_minor": 5
}
